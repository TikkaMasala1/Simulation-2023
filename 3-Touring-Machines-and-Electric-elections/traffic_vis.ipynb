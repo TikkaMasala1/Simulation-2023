{
 "cells": [
  {
   "cell_type": "code",
   "execution_count": 1,
   "metadata": {
    "collapsed": true,
    "ExecuteTime": {
     "start_time": "2023-05-02T15:33:45.192417Z",
     "end_time": "2023-05-02T15:33:46.140733Z"
    }
   },
   "outputs": [],
   "source": [
    "import matplotlib.pyplot as plt\n",
    "import numpy as np\n",
    "from traffic_model import TrafficModel"
   ]
  },
  {
   "cell_type": "code",
   "execution_count": 8,
   "outputs": [],
   "source": [
    "# Simulation parameters\n",
    "road_length = 100\n",
    "vehicle_count = 20\n",
    "max_speed = 5\n",
    "slowdown_probability = 0.5\n",
    "steps = 50\n",
    "\n",
    "model = TrafficModel(road_length, vehicle_count, max_speed, slowdown_probability)"
   ],
   "metadata": {
    "collapsed": false,
    "ExecuteTime": {
     "start_time": "2023-05-02T16:12:51.013527Z",
     "end_time": "2023-05-02T16:12:51.019032Z"
    }
   }
  },
  {
   "cell_type": "code",
   "execution_count": 9,
   "outputs": [],
   "source": [
    "def visualize_traffic(model):\n",
    "    # Initialize a 2D numpy array representing the road with zeros\n",
    "    road = np.zeros((1, model.grid.width), dtype=int)\n",
    "\n",
    "    # Update the road array with the speed of each agent at their respective positions\n",
    "    for agent in model.schedule.agents:\n",
    "        road[0, agent.pos[0]] = agent.speed + 1\n",
    "\n",
    "    # Create a matplotlib figure with a specific size\n",
    "    plt.figure(figsize=(20, 1))\n",
    "\n",
    "    # Display the road array as an image with the viridis colormap\n",
    "    # Set vmin and vmax to scale the colors according to the maximum speed of the agents\n",
    "    plt.imshow(road, cmap='viridis', vmin=0, vmax=model.schedule.agents[0].max_speed + 1)\n",
    "\n",
    "    # Customize the plot's x and y ticks to remove labels and only show gridlines\n",
    "    plt.xticks(np.arange(-0.5, model.grid.width - 0.5, 1), [])\n",
    "    plt.yticks([], [])\n",
    "\n",
    "    # Add gridlines to the plot with specific linestyle, linewidth, and color\n",
    "    plt.grid(True, linestyle='-', linewidth=1, color='black')\n",
    "\n",
    "    # Show the plot\n",
    "    plt.show()\n"
   ],
   "metadata": {
    "collapsed": false,
    "ExecuteTime": {
     "start_time": "2023-05-02T16:12:51.322794Z",
     "end_time": "2023-05-02T16:12:51.344812Z"
    }
   }
  },
  {
   "cell_type": "markdown",
   "source": [
    "# Visualization\n",
    "The visualization uses the 'viridis' colormap, which is a perceptually uniform color scale that ranges from dark blue to yellow. In this simulation, the colors have the following meanings:\n",
    "\n",
    "`Dark Blue`: This color represents an empty cell on the grid, meaning there is no vehicle present in that position.\n",
    "`Light Blue to Green`: These colors represent vehicles with slower speeds. As the colors transition from light blue to green, it indicates an increase in the vehicle's speed, but still at the lower end of the speed range.\n",
    "`Green to Yellow`: These colors represent vehicles with faster speeds. The transition from green to yellow indicates an increase in the vehicle's speed towards its maximum speed.\n",
    "\n",
    "In the visualization, the color intensity increases as the vehicle's speed increases, with yellow representing the maximum speed a vehicle can achieve. By observing the colors, you can easily discern the traffic flow, areas of congestion, and the impact of the inertial vehicle on the overall traffic pattern."
   ],
   "metadata": {
    "collapsed": false
   }
  },
  {
   "cell_type": "code",
   "execution_count": 10,
   "outputs": [
    {
     "name": "stdout",
     "output_type": "stream",
     "text": [
      "Step: 1\n"
     ]
    },
    {
     "data": {
      "text/plain": "<Figure size 2000x100 with 1 Axes>",
      "image/png": "[encoded data removed]"
     },
     "metadata": {},
     "output_type": "display_data"
    },
    {
     "name": "stdout",
     "output_type": "stream",
     "text": [
      "Step: 2\n"
     ]
    },
    {
     "data": {
      "text/plain": "<Figure size 2000x100 with 1 Axes>",
      "image/png": "[encoded data removed]"
     },
     "metadata": {},
     "output_type": "display_data"
    },
    {
     "name": "stdout",
     "output_type": "stream",
     "text": [
      "Step: 3\n"
     ]
    },
    {
     "data": {
      "text/plain": "<Figure size 2000x100 with 1 Axes>",
      "image/png": "[encoded data removed]"
     },
     "metadata": {},
     "output_type": "display_data"
    },
    {
     "name": "stdout",
     "output_type": "stream",
     "text": [
      "Step: 4\n"
     ]
    },
    {
     "data": {
      "text/plain": "<Figure size 2000x100 with 1 Axes>",
      "image/png": "[encoded data removed]"
     },
     "metadata": {},
     "output_type": "display_data"
    },
    {
     "name": "stdout",
     "output_type": "stream",
     "text": [
      "Step: 5\n"
     ]
    },
    {
     "data": {
      "text/plain": "<Figure size 2000x100 with 1 Axes>",
      "image/png": "[encoded data removed]"
     },
     "metadata": {},
     "output_type": "display_data"
    },
    {
     "name": "stdout",
     "output_type": "stream",
     "text": [
      "Step: 6\n"
     ]
    },
    {
     "data": {
      "text/plain": "<Figure size 2000x100 with 1 Axes>",
      "image/png": "[encoded data removed]"
     },
     "metadata": {},
     "output_type": "display_data"
    },
    {
     "name": "stdout",
     "output_type": "stream",
     "text": [
      "Step: 7\n"
     ]
    },
    {
     "data": {
      "text/plain": "<Figure size 2000x100 with 1 Axes>",
      "image/png": "[encoded data removed]"
     },
     "metadata": {},
     "output_type": "display_data"
    },
    {
     "name": "stdout",
     "output_type": "stream",
     "text": [
      "Step: 8\n"
     ]
    },
    {
     "data": {
      "text/plain": "<Figure size 2000x100 with 1 Axes>",
      "image/png": "[encoded data removed]"
     },
     "metadata": {},
     "output_type": "display_data"
    },
    {
     "name": "stdout",
     "output_type": "stream",
     "text": [
      "Step: 9\n"
     ]
    },
    {
     "data": {
      "text/plain": "<Figure size 2000x100 with 1 Axes>",
      "image/png": "[encoded data removed]"
     },
     "metadata": {},
     "output_type": "display_data"
    },
    {
     "name": "stdout",
     "output_type": "stream",
     "text": [
      "Step: 10\n"
     ]
    },
    {
     "data": {
      "text/plain": "<Figure size 2000x100 with 1 Axes>",
      "image/png": "[encoded data removed]"
     },
     "metadata": {},
     "output_type": "display_data"
    },
    {
     "name": "stdout",
     "output_type": "stream",
     "text": [
      "Step: 11\n"
     ]
    },
    {
     "data": {
      "text/plain": "<Figure size 2000x100 with 1 Axes>",
      "image/png": "[encoded data removed]"
     },
     "metadata": {},
     "output_type": "display_data"
    },
    {
     "name": "stdout",
     "output_type": "stream",
     "text": [
      "Step: 12\n"
     ]
    },
    {
     "data": {
      "text/plain": "<Figure size 2000x100 with 1 Axes>",
      "image/png": "[encoded data removed]"
     },
     "metadata": {},
     "output_type": "display_data"
    },
    {
     "name": "stdout",
     "output_type": "stream",
     "text": [
      "Step: 13\n"
     ]
    },
    {
     "data": {
      "text/plain": "<Figure size 2000x100 with 1 Axes>",
      "image/png": "[encoded data removed]"
     },
     "metadata": {},
     "output_type": "display_data"
    },
    {
     "name": "stdout",
     "output_type": "stream",
     "text": [
      "Step: 14\n"
     ]
    },
    {
     "data": {
      "text/plain": "<Figure size 2000x100 with 1 Axes>",
      "image/png": "[encoded data removed]"
     },
     "metadata": {},
     "output_type": "display_data"
    },
    {
     "name": "stdout",
     "output_type": "stream",
     "text": [
      "Step: 15\n"
     ]
    },
    {
     "data": {
      "text/plain": "<Figure size 2000x100 with 1 Axes>",
      "image/png": "[encoded data removed]"
     },
     "metadata": {},
     "output_type": "display_data"
    },
    {
     "name": "stdout",
     "output_type": "stream",
     "text": [
      "Step: 16\n"
     ]
    },
    {
     "data": {
      "text/plain": "<Figure size 2000x100 with 1 Axes>",
      "image/png": "[encoded data removed]"
     },
     "metadata": {},
     "output_type": "display_data"
    },
    {
     "name": "stdout",
     "output_type": "stream",
     "text": [
      "Step: 17\n"
     ]
    },
    {
     "data": {
      "text/plain": "<Figure size 2000x100 with 1 Axes>",
      "image/png": "[encoded data removed]"
     },
     "metadata": {},
     "output_type": "display_data"
    },
    {
     "name": "stdout",
     "output_type": "stream",
     "text": [
      "Step: 18\n"
     ]
    },
    {
     "data": {
      "text/plain": "<Figure size 2000x100 with 1 Axes>",
      "image/png": "[encoded data removed]"
     },
     "metadata": {},
     "output_type": "display_data"
    },
    {
     "name": "stdout",
     "output_type": "stream",
     "text": [
      "Step: 19\n"
     ]
    },
    {
     "data": {
      "text/plain": "<Figure size 2000x100 with 1 Axes>",
      "image/png": "[encoded data removed]"
     },
     "metadata": {},
     "output_type": "display_data"
    },
    {
     "name": "stdout",
     "output_type": "stream",
     "text": [
      "Step: 20\n"
     ]
    },
    {
     "data": {
      "text/plain": "<Figure size 2000x100 with 1 Axes>",
      "image/png": "[encoded data removed]"
     },
     "metadata": {},
     "output_type": "display_data"
    },
    {
     "name": "stdout",
     "output_type": "stream",
     "text": [
      "Step: 21\n"
     ]
    },
    {
     "data": {
      "text/plain": "<Figure size 2000x100 with 1 Axes>",
      "image/png": "[encoded data removed]"
     },
     "metadata": {},
     "output_type": "display_data"
    },
    {
     "name": "stdout",
     "output_type": "stream",
     "text": [
      "Step: 22\n"
     ]
    },
    {
     "data": {
      "text/plain": "<Figure size 2000x100 with 1 Axes>",
      "image/png": "[encoded data removed]"
     },
     "metadata": {},
     "output_type": "display_data"
    },
    {
     "name": "stdout",
     "output_type": "stream",
     "text": [
      "Step: 23\n"
     ]
    },
    {
     "data": {
      "text/plain": "<Figure size 2000x100 with 1 Axes>",
      "image/png": "[encoded data removed]"
     },
     "metadata": {},
     "output_type": "display_data"
    },
    {
     "name": "stdout",
     "output_type": "stream",
     "text": [
      "Step: 24\n"
     ]
    },
    {
     "data": {
      "text/plain": "<Figure size 2000x100 with 1 Axes>",
      "image/png": "[encoded data removed]"
     },
     "metadata": {},
     "output_type": "display_data"
    },
    {
     "name": "stdout",
     "output_type": "stream",
     "text": [
      "Step: 25\n"
     ]
    },
    {
     "data": {
      "text/plain": "<Figure size 2000x100 with 1 Axes>",
      "image/png": "[encoded data removed]"
     },
     "metadata": {},
     "output_type": "display_data"
    },
    {
     "name": "stdout",
     "output_type": "stream",
     "text": [
      "Step: 26\n"
     ]
    },
    {
     "data": {
      "text/plain": "<Figure size 2000x100 with 1 Axes>",
      "image/png": "[encoded data removed]"
     },
     "metadata": {},
     "output_type": "display_data"
    },
    {
     "name": "stdout",
     "output_type": "stream",
     "text": [
      "Step: 27\n"
     ]
    },
    {
     "data": {
      "text/plain": "<Figure size 2000x100 with 1 Axes>",
      "image/png": "[encoded data removed]"
     },
     "metadata": {},
     "output_type": "display_data"
    },
    {
     "name": "stdout",
     "output_type": "stream",
     "text": [
      "Step: 28\n"
     ]
    },
    {
     "data": {
      "text/plain": "<Figure size 2000x100 with 1 Axes>",
      "image/png": "[encoded data removed]"
     },
     "metadata": {},
     "output_type": "display_data"
    },
    {
     "name": "stdout",
     "output_type": "stream",
     "text": [
      "Step: 29\n"
     ]
    },
    {
     "data": {
      "text/plain": "<Figure size 2000x100 with 1 Axes>",
      "image/png": "[encoded data removed]"
     },
     "metadata": {},
     "output_type": "display_data"
    },
    {
     "name": "stdout",
     "output_type": "stream",
     "text": [
      "Step: 30\n"
     ]
    },
    {
     "data": {
      "text/plain": "<Figure size 2000x100 with 1 Axes>",
      "image/png": "[encoded data removed]"
     },
     "metadata": {},
     "output_type": "display_data"
    },
    {
     "name": "stdout",
     "output_type": "stream",
     "text": [
      "Step: 31\n"
     ]
    },
    {
     "data": {
      "text/plain": "<Figure size 2000x100 with 1 Axes>",
      "image/png": "[encoded data removed]"
     },
     "metadata": {},
     "output_type": "display_data"
    },
    {
     "name": "stdout",
     "output_type": "stream",
     "text": [
      "Step: 32\n"
     ]
    },
    {
     "data": {
      "text/plain": "<Figure size 2000x100 with 1 Axes>",
      "image/png": "[encoded data removed]"
     },
     "metadata": {},
     "output_type": "display_data"
    },
    {
     "name": "stdout",
     "output_type": "stream",
     "text": [
      "Step: 33\n"
     ]
    },
    {
     "data": {
      "text/plain": "<Figure size 2000x100 with 1 Axes>",
      "image/png": "[encoded data removed]"
     },
     "metadata": {},
     "output_type": "display_data"
    },
    {
     "name": "stdout",
     "output_type": "stream",
     "text": [
      "Step: 34\n"
     ]
    },
    {
     "data": {
      "text/plain": "<Figure size 2000x100 with 1 Axes>",
      "image/png": "[encoded data removed]"
     },
     "metadata": {},
     "output_type": "display_data"
    },
    {
     "name": "stdout",
     "output_type": "stream",
     "text": [
      "Step: 35\n"
     ]
    },
    {
     "data": {
      "text/plain": "<Figure size 2000x100 with 1 Axes>",
      "image/png": "[encoded data removed]"
     },
     "metadata": {},
     "output_type": "display_data"
    },
    {
     "name": "stdout",
     "output_type": "stream",
     "text": [
      "Step: 36\n"
     ]
    },
    {
     "data": {
      "text/plain": "<Figure size 2000x100 with 1 Axes>",
      "image/png": "[encoded data removed]"
     },
     "metadata": {},
     "output_type": "display_data"
    },
    {
     "name": "stdout",
     "output_type": "stream",
     "text": [
      "Step: 37\n"
     ]
    },
    {
     "data": {
      "text/plain": "<Figure size 2000x100 with 1 Axes>",
      "image/png": "[encoded data removed]"
     },
     "metadata": {},
     "output_type": "display_data"
    },
    {
     "name": "stdout",
     "output_type": "stream",
     "text": [
      "Step: 38\n"
     ]
    },
    {
     "data": {
      "text/plain": "<Figure size 2000x100 with 1 Axes>",
      "image/png": "[encoded data removed]"
     },
     "metadata": {},
     "output_type": "display_data"
    },
    {
     "name": "stdout",
     "output_type": "stream",
     "text": [
      "Step: 39\n"
     ]
    },
    {
     "data": {
      "text/plain": "<Figure size 2000x100 with 1 Axes>",
      "image/png": "[encoded data removed]"
     },
     "metadata": {},
     "output_type": "display_data"
    },
    {
     "name": "stdout",
     "output_type": "stream",
     "text": [
      "Step: 40\n"
     ]
    },
    {
     "data": {
      "text/plain": "<Figure size 2000x100 with 1 Axes>",
      "image/png": "[encoded data removed]"
     },
     "metadata": {},
     "output_type": "display_data"
    },
    {
     "name": "stdout",
     "output_type": "stream",
     "text": [
      "Step: 41\n"
     ]
    },
    {
     "data": {
      "text/plain": "<Figure size 2000x100 with 1 Axes>",
      "image/png": "[encoded data removed]"
     },
     "metadata": {},
     "output_type": "display_data"
    },
    {
     "name": "stdout",
     "output_type": "stream",
     "text": [
      "Step: 42\n"
     ]
    },
    {
     "data": {
      "text/plain": "<Figure size 2000x100 with 1 Axes>",
      "image/png": "[encoded data removed]"
     },
     "metadata": {},
     "output_type": "display_data"
    },
    {
     "name": "stdout",
     "output_type": "stream",
     "text": [
      "Step: 43\n"
     ]
    },
    {
     "data": {
      "text/plain": "<Figure size 2000x100 with 1 Axes>",
      "image/png": "[encoded data removed]"
     },
     "metadata": {},
     "output_type": "display_data"
    },
    {
     "name": "stdout",
     "output_type": "stream",
     "text": [
      "Step: 44\n"
     ]
    },
    {
     "data": {
      "text/plain": "<Figure size 2000x100 with 1 Axes>",
      "image/png": "[encoded data removed]"
     },
     "metadata": {},
     "output_type": "display_data"
    },
    {
     "name": "stdout",
     "output_type": "stream",
     "text": [
      "Step: 45\n"
     ]
    },
    {
     "data": {
      "text/plain": "<Figure size 2000x100 with 1 Axes>",
      "image/png": "[encoded data removed]"
     },
     "metadata": {},
     "output_type": "display_data"
    },
    {
     "name": "stdout",
     "output_type": "stream",
     "text": [
      "Step: 46\n"
     ]
    },
    {
     "data": {
      "text/plain": "<Figure size 2000x100 with 1 Axes>",
      "image/png": "[encoded data removed]"
     },
     "metadata": {},
     "output_type": "display_data"
    },
    {
     "name": "stdout",
     "output_type": "stream",
     "text": [
      "Step: 47\n"
     ]
    },
    {
     "data": {
      "text/plain": "<Figure size 2000x100 with 1 Axes>",
      "image/png": "[encoded data removed]"
     },
     "metadata": {},
     "output_type": "display_data"
    },
    {
     "name": "stdout",
     "output_type": "stream",
     "text": [
      "Step: 48\n"
     ]
    },
    {
     "data": {
      "text/plain": "<Figure size 2000x100 with 1 Axes>",
      "image/png": "[encoded data removed]"
     },
     "metadata": {},
     "output_type": "display_data"
    },
    {
     "name": "stdout",
     "output_type": "stream",
     "text": [
      "Step: 49\n"
     ]
    },
    {
     "data": {
      "text/plain": "<Figure size 2000x100 with 1 Axes>",
      "image/png": "[encoded data removed]"
     },
     "metadata": {},
     "output_type": "display_data"
    },
    {
     "name": "stdout",
     "output_type": "stream",
     "text": [
      "Step: 50\n"
     ]
    },
    {
     "data": {
      "text/plain": "<Figure size 2000x100 with 1 Axes>",
      "image/png": "[encoded data removed]"
     },
     "metadata": {},
     "output_type": "display_data"
    }
   ],
   "source": [
    "for i in range(steps):\n",
    "    print(\"Step:\", i + 1)\n",
    "    model.step()\n",
    "    visualize_traffic(model)\n"
   ],
   "metadata": {
    "collapsed": false,
    "ExecuteTime": {
     "start_time": "2023-05-02T16:12:52.685466Z",
     "end_time": "2023-05-02T16:13:01.457512Z"
    }
   }
  }
 ],
 "metadata": {
  "kernelspec": {
   "display_name": "Python 3",
   "language": "python",
   "name": "python3"
  },
  "language_info": {
   "codemirror_mode": {
    "name": "ipython",
    "version": 2
   },
   "file_extension": ".py",
   "mimetype": "text/x-python",
   "name": "python",
   "nbconvert_exporter": "python",
   "pygments_lexer": "ipython2",
   "version": "2.7.6"
  }
 },
 "nbformat": 4,
 "nbformat_minor": 0
}
